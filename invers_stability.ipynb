{
  "nbformat": 4,
  "nbformat_minor": 0,
  "metadata": {
    "colab": {
      "name": "invers_stability.ipynb",
      "provenance": [],
      "collapsed_sections": [],
      "include_colab_link": true
    },
    "kernelspec": {
      "name": "python3",
      "display_name": "Python 3"
    }
  },
  "cells": [
    {
      "cell_type": "markdown",
      "metadata": {
        "id": "view-in-github",
        "colab_type": "text"
      },
      "source": [
        "<a href=\"https://colab.research.google.com/github/juliusberner/nn_inverse_stability/blob/master/invers_stability.ipynb\" target=\"_parent\"><img src=\"https://colab.research.google.com/assets/colab-badge.svg\" alt=\"Open In Colab\"/></a>"
      ]
    },
    {
      "cell_type": "code",
      "metadata": {
        "id": "bIWdYFVVe6Ew",
        "colab_type": "code",
        "colab": {}
      },
      "source": [
        "import torch\n",
        "import torch.nn as nn\n",
        "import torch.nn.functional as F\n",
        "import torch.optim as optim\n",
        "import matplotlib.pyplot as plt\n",
        "import numpy as np"
      ],
      "execution_count": 0,
      "outputs": []
    },
    {
      "cell_type": "code",
      "metadata": {
        "id": "wfKl33mNzrRj",
        "colab_type": "code",
        "colab": {}
      },
      "source": [
        "#network\n",
        "b = 1. #initial translation\n",
        "a = 1. #initial slope\n",
        "\n",
        "#validation set\n",
        "m = 1000 #size\n",
        "u, v = -10., 10. #domain [u, v]\n",
        "\n",
        "#loss and optimizer\n",
        "batchsize = 10\n",
        "lr = 1e-3\n",
        "iterations = 500 #number of gradient descents\n",
        "criterion = nn.MSELoss() #loss function"
      ],
      "execution_count": 0,
      "outputs": []
    },
    {
      "cell_type": "code",
      "metadata": {
        "id": "NNcFjXxpfxKi",
        "colab_type": "code",
        "colab": {}
      },
      "source": [
        "#network\n",
        "class Net(nn.Module):\n",
        "\n",
        "    def __init__(self):\n",
        "        super(Net, self).__init__()\n",
        "        self.fc1 = nn.Linear(1, 2)\n",
        "        self.fc1.weight.data=torch.tensor([[1.], [1.]])\n",
        "        self.fc1.bias.data=torch.tensor([0., -b])\n",
        "        self.fc2 = nn.Linear(2, 1)\n",
        "        self.fc2.weight.data=torch.tensor([[a, -a]])\n",
        "        self.fc2.bias.data=torch.tensor([0.])\n",
        "\n",
        "    def forward(self, x):\n",
        "        x = F.relu(self.fc1(x))\n",
        "        x = self.fc2(x)\n",
        "        return x\n",
        "\n",
        "#optimization\n",
        "def optimize(iterations, net):\n",
        "  \n",
        "    \n",
        "    #validation set\n",
        "    x_val = torch.linspace(u, v, m).view(-1,1)\n",
        "    y_val = torch.zeros(m, 1)\n",
        "    \n",
        "    optimizer = optim.SGD(net.parameters(), lr=lr, momentum=0.9)\n",
        "    parameter = [net.parameters()]\n",
        "    for i in range(iterations):  \n",
        "\n",
        "            inputs = torch.FloatTensor(batchsize, 1).uniform_(u, v)\n",
        "            labels = torch.zeros(batchsize, 1)\n",
        "\n",
        "            # zero the parameter gradients\n",
        "            optimizer.zero_grad()\n",
        "\n",
        "            # forward + backward + optimize\n",
        "            loss = criterion(net(inputs), labels)\n",
        "            loss.backward()\n",
        "            optimizer.step()\n",
        "\n",
        "            # print statistics\n",
        "            if i % 30 == 29:    # print every 10 mini-batches\n",
        "                loss = criterion(net(x_val), y_val)\n",
        "                error = torch.max(abs(net(x_val) - y_val))\n",
        "                print('iteration: %5d   loss: %.3f   max error: %.3f' %(i + 1, loss, error))\n",
        "                parameter.append(net.parameters())\n",
        "\n",
        "    print('Finished Training')\n",
        "    return parameter"
      ],
      "execution_count": 0,
      "outputs": []
    },
    {
      "cell_type": "code",
      "metadata": {
        "id": "ih08I9JD2B6e",
        "colab_type": "code",
        "outputId": "19666d69-cc63-4c50-d467-2b04cdd2c774",
        "colab": {
          "base_uri": "https://localhost:8080/",
          "height": 314
        }
      },
      "source": [
        "net=Net()\n",
        "parameter=optimize(iterations, net)"
      ],
      "execution_count": 4,
      "outputs": [
        {
          "output_type": "stream",
          "text": [
            "iteration:    30   loss: 0.078   max error: 0.746\n",
            "iteration:    60   loss: 0.046   max error: 0.577\n",
            "iteration:    90   loss: 0.036   max error: 0.491\n",
            "iteration:   120   loss: 0.029   max error: 0.431\n",
            "iteration:   150   loss: 0.034   max error: 0.458\n",
            "iteration:   180   loss: 0.019   max error: 0.343\n",
            "iteration:   210   loss: 0.016   max error: 0.312\n",
            "iteration:   240   loss: 0.014   max error: 0.271\n",
            "iteration:   270   loss: 0.011   max error: 0.244\n",
            "iteration:   300   loss: 0.009   max error: 0.228\n",
            "iteration:   330   loss: 0.008   max error: 0.213\n",
            "iteration:   360   loss: 0.006   max error: 0.200\n",
            "iteration:   390   loss: 0.005   max error: 0.177\n",
            "iteration:   420   loss: 0.004   max error: 0.154\n",
            "iteration:   450   loss: 0.004   max error: 0.143\n",
            "iteration:   480   loss: 0.003   max error: 0.132\n",
            "Finished Training\n"
          ],
          "name": "stdout"
        }
      ]
    },
    {
      "cell_type": "code",
      "metadata": {
        "id": "3YMzTw3cl6or",
        "colab_type": "code",
        "outputId": "7584aa54-5ffe-47a4-de7a-02705431b6e0",
        "colab": {
          "base_uri": "https://localhost:8080/",
          "height": 269
        }
      },
      "source": [
        "#plotting the predicted function\n",
        "\n",
        "delta = 0 #increase interval by delta\n",
        "\n",
        "x_plt = torch.linspace(u-delta, v+delta, m).view(-1,1)\n",
        "with torch.no_grad():\n",
        "    y_plt = net(x_plt)\n",
        "\n",
        "plt.plot(x_plt.numpy(), y_plt.numpy())\n",
        "plt.show()"
      ],
      "execution_count": 5,
      "outputs": [
        {
          "output_type": "display_data",
          "data": {
            "image/png": "[encoded data removed]",
            "text/plain": [
              "<Figure size 432x288 with 1 Axes>"
            ]
          },
          "metadata": {
            "tags": []
          }
        }
      ]
    }
  ]
}